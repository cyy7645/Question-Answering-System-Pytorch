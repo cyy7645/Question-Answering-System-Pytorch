{
 "cells": [
  {
   "cell_type": "code",
   "execution_count": 19,
   "metadata": {},
   "outputs": [
    {
     "name": "stdout",
     "output_type": "stream",
     "text": [
      "Thu Jul 19 17:38:08 2018       \r\n",
      "+-----------------------------------------------------------------------------+\r\n",
      "| NVIDIA-SMI 384.111                Driver Version: 384.111                   |\r\n",
      "|-------------------------------+----------------------+----------------------+\r\n",
      "| GPU  Name        Persistence-M| Bus-Id        Disp.A | Volatile Uncorr. ECC |\r\n",
      "| Fan  Temp  Perf  Pwr:Usage/Cap|         Memory-Usage | GPU-Util  Compute M. |\r\n",
      "|===============================+======================+======================|\r\n",
      "|   0  GeForce GTX 108...  Off  | 00000000:05:00.0 Off |                  N/A |\r\n",
      "| 45%   66C    P2   101W / 250W |   1704MiB / 11170MiB |     89%      Default |\r\n",
      "+-------------------------------+----------------------+----------------------+\r\n",
      "|   1  GeForce GTX 108...  Off  | 00000000:09:00.0 Off |                  N/A |\r\n",
      "|  0%   43C    P5    31W / 250W |      0MiB / 11172MiB |      3%      Default |\r\n",
      "+-------------------------------+----------------------+----------------------+\r\n",
      "                                                                               \r\n",
      "+-----------------------------------------------------------------------------+\r\n",
      "| Processes:                                                       GPU Memory |\r\n",
      "|  GPU       PID   Type   Process name                             Usage      |\r\n",
      "|=============================================================================|\r\n",
      "|    0      9633      C   python                                       761MiB |\r\n",
      "|    0     29907      C   python3                                      933MiB |\r\n",
      "+-----------------------------------------------------------------------------+\r\n"
     ]
    }
   ],
   "source": [
    "!nvidia-smi"
   ]
  },
  {
   "cell_type": "code",
   "execution_count": 9,
   "metadata": {},
   "outputs": [
    {
     "name": "stdout",
     "output_type": "stream",
     "text": [
      "babi_main_run_task3.py:133: UserWarning: Implicit dimension choice for softmax has been deprecated. Change the call to include dim=X as an argument.\n",
      "  G = F.softmax(G)\n",
      "babi_main_run_task3.py:367: UserWarning: Implicit dimension choice for softmax has been deprecated. Change the call to include dim=X as an argument.\n",
      "  preds = F.softmax(output)\n",
      "babi_main_run_task3.py:428: UserWarning: invalid index of a 0-dim tensor. This will be an error in PyTorch 0.5. Use tensor.item() to convert a 0-dim tensor to a Python number\n",
      "  print(f'[Task {task_id}, Epoch {epoch}] [Training] loss : {loss.data[0]: {10}.{8}}, acc : {total_acc / cnt: {5}.{4}}, batch_idx : {batch_idx}')\n",
      "^C\n",
      "Traceback (most recent call last):\n",
      "  File \"babi_main_run_task3.py\", line 422, in <module>\n",
      "    loss, acc = model.get_loss(contexts, questions, answers)\n",
      "  File \"babi_main_run_task3.py\", line 362, in get_loss\n",
      "    output = self.forward(contexts, questions)\n",
      "  File \"babi_main_run_task3.py\", line 334, in forward\n",
      "    facts = self.input_module(contexts, self.word_embedding, self.tree_dict)\n",
      "  File \"/opt/anaconda3/lib/python3.6/site-packages/torch/nn/modules/module.py\", line 491, in __call__\n",
      "    result = self.forward(*input, **kwargs)\n",
      "  File \"babi_main_run_task3.py\", line 255, in forward\n",
      "    contexts_batch = self.tree_model.forward(cid_batch, csent_batch,word_embedding,tree_dict)\n",
      "  File \"/data/notebook/jupyterhub/notebook_dirs/chenyy/QA/treelstm_dmn+/SimilarityTreeLSTM.py\", line 32, in forward\n",
      "    cstate, chidden = self.childsumtreelstm(trees[sen], cinputss[sen])\n",
      "  File \"/opt/anaconda3/lib/python3.6/site-packages/torch/nn/modules/module.py\", line 491, in __call__\n",
      "    result = self.forward(*input, **kwargs)\n",
      "  File \"/data/notebook/jupyterhub/notebook_dirs/chenyy/QA/treelstm_dmn+/ChildSumTreeLSTM.py\", line 47, in forward\n",
      "    self.forward(tree.children[idx], inputs)\n",
      "  File \"/data/notebook/jupyterhub/notebook_dirs/chenyy/QA/treelstm_dmn+/ChildSumTreeLSTM.py\", line 47, in forward\n",
      "    self.forward(tree.children[idx], inputs)\n",
      "  File \"/data/notebook/jupyterhub/notebook_dirs/chenyy/QA/treelstm_dmn+/ChildSumTreeLSTM.py\", line 64, in forward\n",
      "    tree.state = self.node_forward(inputs[tree.idx], child_c, child_h)\n",
      "  File \"/data/notebook/jupyterhub/notebook_dirs/chenyy/QA/treelstm_dmn+/ChildSumTreeLSTM.py\", line 25, in node_forward\n",
      "    iou = self.ioux(inputs) + self.iouh(child_h_sum)\n",
      "KeyboardInterrupt\n"
     ]
    }
   ],
   "source": [
    "!CUDA_VISIBLE_DEVICES=1 python treelstm_dmn_baibi_main.py"
   ]
  },
  {
   "cell_type": "code",
   "execution_count": null,
   "metadata": {},
   "outputs": [
    {
     "name": "stdout",
     "output_type": "stream",
     "text": [
      "babi_main_glove.py:137: UserWarning: Implicit dimension choice for softmax has been deprecated. Change the call to include dim=X as an argument.\n",
      "  G = F.softmax(G)\n",
      "babi_main_glove.py:368: UserWarning: Implicit dimension choice for softmax has been deprecated. Change the call to include dim=X as an argument.\n",
      "  preds = F.softmax(output)\n",
      "babi_main_glove.py:461: UserWarning: invalid index of a 0-dim tensor. This will be an error in PyTorch 0.5. Use tensor.item() to convert a 0-dim tensor to a Python number\n",
      "  f'[Task {task_id}, Epoch {epoch}] [Training] loss : {loss.data[0]: {10}.{8}}, acc : {total_acc / cnt: {5}.{4}}, batch_idx : {batch_idx}')\n"
     ]
    }
   ],
   "source": [
    "!CUDA_VISIBLE_DEVICES=1 python babi_main_glove.py"
   ]
  },
  {
   "cell_type": "code",
   "execution_count": null,
   "metadata": {},
   "outputs": [],
   "source": []
  }
 ],
 "metadata": {
  "kernelspec": {
   "display_name": "Python 3",
   "language": "python",
   "name": "python3"
  },
  "language_info": {
   "codemirror_mode": {
    "name": "ipython",
    "version": 3
   },
   "file_extension": ".py",
   "mimetype": "text/x-python",
   "name": "python",
   "nbconvert_exporter": "python",
   "pygments_lexer": "ipython3",
   "version": "3.6.4"
  }
 },
 "nbformat": 4,
 "nbformat_minor": 2
}
