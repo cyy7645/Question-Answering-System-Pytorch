{
 "cells": [
  {
   "cell_type": "code",
   "execution_count": 1,
   "metadata": {},
   "outputs": [
    {
     "name": "stdout",
     "output_type": "stream",
     "text": [
      "Thu Jul 26 10:36:30 2018       \r\n",
      "+-----------------------------------------------------------------------------+\r\n",
      "| NVIDIA-SMI 384.111                Driver Version: 384.111                   |\r\n",
      "|-------------------------------+----------------------+----------------------+\r\n",
      "| GPU  Name        Persistence-M| Bus-Id        Disp.A | Volatile Uncorr. ECC |\r\n",
      "| Fan  Temp  Perf  Pwr:Usage/Cap|         Memory-Usage | GPU-Util  Compute M. |\r\n",
      "|===============================+======================+======================|\r\n",
      "|   0  GeForce GTX 108...  Off  | 00000000:05:00.0 Off |                  N/A |\r\n",
      "| 42%   64C    P2    65W / 250W |   2597MiB / 11170MiB |      0%      Default |\r\n",
      "+-------------------------------+----------------------+----------------------+\r\n",
      "|   1  GeForce GTX 108...  Off  | 00000000:09:00.0 Off |                  N/A |\r\n",
      "| 40%   63C    P2    86W / 250W |   1899MiB / 11172MiB |     15%      Default |\r\n",
      "+-------------------------------+----------------------+----------------------+\r\n",
      "                                                                               \r\n",
      "+-----------------------------------------------------------------------------+\r\n",
      "| Processes:                                                       GPU Memory |\r\n",
      "|  GPU       PID   Type   Process name                             Usage      |\r\n",
      "|=============================================================================|\r\n",
      "|    0     29249      C   python                                      2587MiB |\r\n",
      "|    1     31348      C   python3                                     1889MiB |\r\n",
      "+-----------------------------------------------------------------------------+\r\n"
     ]
    }
   ],
   "source": [
    "!nvidia-smi"
   ]
  },
  {
   "cell_type": "code",
   "execution_count": null,
   "metadata": {},
   "outputs": [
    {
     "name": "stdout",
     "output_type": "stream",
     "text": [
      "babi_main_run_task3.py:310: UserWarning: Implicit dimension choice for softmax has been deprecated. Change the call to include dim=X as an argument.\n",
      "  G = F.softmax(G)\n",
      "babi_main_run_task3.py:624: UserWarning: Implicit dimension choice for softmax has been deprecated. Change the call to include dim=X as an argument.\n",
      "  preds = F.softmax(output)\n",
      "babi_main_run_task3.py:685: UserWarning: invalid index of a 0-dim tensor. This will be an error in PyTorch 0.5. Use tensor.item() to convert a 0-dim tensor to a Python number\n",
      "  print(f'[Task {task_id}, Epoch {epoch}] [Training] loss : {loss.data[0]: {10}.{8}}, acc : {total_acc / cnt: {5}.{4}}, batch_idx : {batch_idx}')\n"
     ]
    }
   ],
   "source": [
    "!CUDA_VISIBLE_DEVICES=0 python3 babi_main_run_task3.py"
   ]
  },
  {
   "cell_type": "code",
   "execution_count": 3,
   "metadata": {},
   "outputs": [
    {
     "name": "stdout",
     "output_type": "stream",
     "text": [
      "Traceback (most recent call last):\r\n",
      "  File \"/opt/anaconda3/lib/python3.6/site-packages/urllib3/connection.py\", line 141, in _new_conn\r\n",
      "    (self.host, self.port), self.timeout, **extra_kw)\r\n",
      "  File \"/opt/anaconda3/lib/python3.6/site-packages/urllib3/util/connection.py\", line 83, in create_connection\r\n",
      "    raise err\r\n",
      "  File \"/opt/anaconda3/lib/python3.6/site-packages/urllib3/util/connection.py\", line 73, in create_connection\r\n",
      "    sock.connect(sa)\r\n",
      "OSError: [Errno 101] Network is unreachable\r\n",
      "\r\n",
      "During handling of the above exception, another exception occurred:\r\n",
      "\r\n",
      "Traceback (most recent call last):\r\n",
      "  File \"/opt/anaconda3/lib/python3.6/site-packages/urllib3/connectionpool.py\", line 601, in urlopen\r\n",
      "    chunked=chunked)\r\n",
      "  File \"/opt/anaconda3/lib/python3.6/site-packages/urllib3/connectionpool.py\", line 346, in _make_request\r\n",
      "    self._validate_conn(conn)\r\n",
      "  File \"/opt/anaconda3/lib/python3.6/site-packages/urllib3/connectionpool.py\", line 850, in _validate_conn\r\n",
      "    conn.connect()\r\n",
      "  File \"/opt/anaconda3/lib/python3.6/site-packages/urllib3/connection.py\", line 284, in connect\r\n",
      "    conn = self._new_conn()\r\n",
      "  File \"/opt/anaconda3/lib/python3.6/site-packages/urllib3/connection.py\", line 150, in _new_conn\r\n",
      "    self, \"Failed to establish a new connection: %s\" % e)\r\n",
      "urllib3.exceptions.NewConnectionError: <urllib3.connection.VerifiedHTTPSConnection object at 0x7fd796d3c0b8>: Failed to establish a new connection: [Errno 101] Network is unreachable\r\n",
      "\r\n",
      "During handling of the above exception, another exception occurred:\r\n",
      "\r\n",
      "Traceback (most recent call last):\r\n",
      "  File \"/opt/anaconda3/lib/python3.6/site-packages/requests/adapters.py\", line 440, in send\r\n",
      "    timeout=timeout\r\n",
      "  File \"/opt/anaconda3/lib/python3.6/site-packages/urllib3/connectionpool.py\", line 639, in urlopen\r\n",
      "    _stacktrace=sys.exc_info()[2])\r\n",
      "  File \"/opt/anaconda3/lib/python3.6/site-packages/urllib3/util/retry.py\", line 388, in increment\r\n",
      "    raise MaxRetryError(_pool, url, error or ResponseError(cause))\r\n",
      "urllib3.exceptions.MaxRetryError: HTTPSConnectionPool(host='translate.google.com', port=443): Max retries exceeded with url: / (Caused by NewConnectionError('<urllib3.connection.VerifiedHTTPSConnection object at 0x7fd796d3c0b8>: Failed to establish a new connection: [Errno 101] Network is unreachable',))\r\n",
      "\r\n",
      "During handling of the above exception, another exception occurred:\r\n",
      "\r\n",
      "Traceback (most recent call last):\r\n",
      "  File \"babi_loader_chinese.py\", line 163, in <module>\r\n",
      "    dset_train = BabiDataset(1)\r\n",
      "  File \"babi_loader_chinese.py\", line 45, in __init__\r\n",
      "    self.train = self.get_indexed_qa(raw_train)\r\n",
      "  File \"babi_loader_chinese.py\", line 71, in get_indexed_qa\r\n",
      "    unindexed = get_unindexed_qa(raw_babi)\r\n",
      "  File \"babi_loader_chinese.py\", line 139, in get_unindexed_qa\r\n",
      "    line = translate.translate(line, dest='zh-CN').text\r\n",
      "  File \"/opt/anaconda3/lib/python3.6/site-packages/googletrans/client.py\", line 172, in translate\r\n",
      "    data = self._translate(text, dest, src)\r\n",
      "  File \"/opt/anaconda3/lib/python3.6/site-packages/googletrans/client.py\", line 75, in _translate\r\n",
      "    token = self.token_acquirer.do(text)\r\n",
      "  File \"/opt/anaconda3/lib/python3.6/site-packages/googletrans/gtoken.py\", line 180, in do\r\n",
      "    self._update()\r\n",
      "  File \"/opt/anaconda3/lib/python3.6/site-packages/googletrans/gtoken.py\", line 57, in _update\r\n",
      "    r = self.session.get(self.host)\r\n",
      "  File \"/opt/anaconda3/lib/python3.6/site-packages/requests/sessions.py\", line 521, in get\r\n",
      "    return self.request('GET', url, **kwargs)\r\n",
      "  File \"/opt/anaconda3/lib/python3.6/site-packages/requests/sessions.py\", line 508, in request\r\n",
      "    resp = self.send(prep, **send_kwargs)\r\n",
      "  File \"/opt/anaconda3/lib/python3.6/site-packages/requests/sessions.py\", line 618, in send\r\n",
      "    r = adapter.send(request, **kwargs)\r\n",
      "  File \"/opt/anaconda3/lib/python3.6/site-packages/requests/adapters.py\", line 508, in send\r\n",
      "    raise ConnectionError(e, request=request)\r\n",
      "requests.exceptions.ConnectionError: HTTPSConnectionPool(host='translate.google.com', port=443): Max retries exceeded with url: / (Caused by NewConnectionError('<urllib3.connection.VerifiedHTTPSConnection object at 0x7fd796d3c0b8>: Failed to establish a new connection: [Errno 101] Network is unreachable',))\r\n"
     ]
    }
   ],
   "source": [
    "!python3 babi_loader_chinese.py"
   ]
  },
  {
   "cell_type": "code",
   "execution_count": null,
   "metadata": {},
   "outputs": [],
   "source": []
  }
 ],
 "metadata": {
  "kernelspec": {
   "display_name": "Python 3",
   "language": "python",
   "name": "python3"
  },
  "language_info": {
   "codemirror_mode": {
    "name": "ipython",
    "version": 3
   },
   "file_extension": ".py",
   "mimetype": "text/x-python",
   "name": "python",
   "nbconvert_exporter": "python",
   "pygments_lexer": "ipython3",
   "version": "3.6.4"
  }
 },
 "nbformat": 4,
 "nbformat_minor": 2
}
